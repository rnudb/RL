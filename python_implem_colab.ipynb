{
  "nbformat": 4,
  "nbformat_minor": 0,
  "metadata": {
    "colab": {
      "provenance": [],
      "gpuType": "T4"
    },
    "kernelspec": {
      "name": "python3",
      "display_name": "Python 3"
    },
    "language_info": {
      "name": "python"
    },
    "accelerator": "GPU"
  },
  "cells": [
    {
      "cell_type": "code",
      "execution_count": 2,
      "metadata": {
        "colab": {
          "base_uri": "https://localhost:8080/"
        },
        "id": "qYL1i54vU39r",
        "outputId": "2e2aad91-83ba-4055-ad99-f6a44c72cfcb"
      },
      "outputs": [
        {
          "output_type": "stream",
          "name": "stdout",
          "text": [
            "Cloning into 'RL'...\n",
            "remote: Enumerating objects: 10, done.\u001b[K\n",
            "remote: Counting objects: 100% (10/10), done.\u001b[K\n",
            "remote: Compressing objects: 100% (9/9), done.\u001b[K\n",
            "remote: Total 10 (delta 0), reused 10 (delta 0), pack-reused 0\u001b[K\n",
            "Receiving objects: 100% (10/10), 6.04 MiB | 28.62 MiB/s, done.\n"
          ]
        }
      ],
      "source": [
        "!git clone https://github.com/rnudb/RL.git"
      ]
    },
    {
      "cell_type": "code",
      "source": [
        "!pip install -q gymnasium gym \"gymnasium[atari,accept-rom-license]\"\n",
        "!mkdir RL/models\n",
        "!mkdir RL/graphs"
      ],
      "metadata": {
        "id": "DoC40-jGWY8C"
      },
      "execution_count": 20,
      "outputs": []
    },
    {
      "cell_type": "code",
      "source": [
        "sh = \"\"\"\n",
        "cd RL/\n",
        "python3 src/main.py\n",
        "\"\"\"\n",
        "with open('script.sh', 'w') as file:\n",
        "  file.write(sh)\n",
        "\n",
        "!bash script.sh"
      ],
      "metadata": {
        "colab": {
          "base_uri": "https://localhost:8080/"
        },
        "id": "TpSVOB9fVw5q",
        "outputId": "ae5e76dc-e0cc-4433-bf84-a13f3c1f82da"
      },
      "execution_count": 23,
      "outputs": [
        {
          "output_type": "stream",
          "name": "stdout",
          "text": [
            "A.L.E: Arcade Learning Environment (version 0.8.1+53f58b7)\n",
            "[Powered by Stella]\n",
            "/usr/local/lib/python3.10/dist-packages/gymnasium/envs/registration.py:877: UserWarning: \u001b[33mWARN: `gymnasium.make(..., autoreset=True)` is deprecated and will be removed in v1.0\u001b[0m\n",
            "  logger.warn(\n",
            "/usr/local/lib/python3.10/dist-packages/gymnasium/envs/registration.py:877: UserWarning: \u001b[33mWARN: `gymnasium.make(..., autoreset=True)` is deprecated and will be removed in v1.0\u001b[0m\n",
            "  logger.warn(\n",
            "TOTAL EPOCH: 10000, Loss: 0.0009281019447371364, Mean Reward: 0.0, Current Reward: 0.0, Actions in batch: {0: 26, 1: 33, 2: 37, 3: 32}\n",
            "script.sh: line 3:  8711 Killed                  python3 src/main.py\n"
          ]
        }
      ]
    },
    {
      "cell_type": "code",
      "source": [],
      "metadata": {
        "id": "hotqOCAeWGS6"
      },
      "execution_count": null,
      "outputs": []
    }
  ]
}